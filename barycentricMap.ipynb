{
 "cells": [
  {
   "cell_type": "code",
   "execution_count": 64,
   "metadata": {},
   "outputs": [],
   "source": [
    "import numpy as np\n",
    "import matplotlib.pyplot as plt\n",
    "from matplotlib import rc, rcParams"
   ]
  },
  {
   "cell_type": "code",
   "execution_count": 75,
   "metadata": {},
   "outputs": [
    {
     "data": {
      "text/plain": [
       "(12514, 15)"
      ]
     },
     "execution_count": 75,
     "metadata": {},
     "output_type": "execute_result"
    }
   ],
   "source": [
    "data = np.genfromtxt('x50.csv',delimiter=',') # read Paraview slice\n",
    "np.shape(data)"
   ]
  },
  {
   "cell_type": "code",
   "execution_count": 76,
   "metadata": {},
   "outputs": [],
   "source": [
    "def generateBCT(data):\n",
    "    \"\"\"Return y-distance and the coordinates of the barycentric triangle locations. \n",
    "       Data must be spanwise periodic\"\"\"\n",
    "    # load data into arrays\n",
    "    upup = data[1:,0] # stress (resolved or subgrid)\n",
    "    upvp = data[1:,1]\n",
    "    upwp = data[1:,2]\n",
    "    vpvp = data[1:,3]\n",
    "    vpwp = data[1:,4]\n",
    "    wpwp = data[1:,5]\n",
    "\n",
    "    u    = data[1:,-6] \n",
    "    v    = data[1:,-5]\n",
    "    w    = data[1:,-4]\n",
    "\n",
    "    x    = data[1:,-3]\n",
    "    y    = data[1:,-2]\n",
    "    z    = data[1:,-1]\n",
    "\n",
    "    Y    = np.unique(y)\n",
    "\n",
    "    # average over spanwise coordinate (z)\n",
    "\n",
    "    T11  = np.zeros(len(Y))\n",
    "    T12  = np.zeros(len(Y))\n",
    "    T13  = np.zeros(len(Y))\n",
    "    T22  = np.zeros(len(Y))\n",
    "    T23  = np.zeros(len(Y))\n",
    "    T33  = np.zeros(len(Y))\n",
    "    U    = np.zeros(len(Y))\n",
    "\n",
    "    for _ in range(len(Y)):\n",
    "        T11[_] = np.average(upup[y == Y[_]])\n",
    "        T12[_] = np.average(upvp[y == Y[_]])\n",
    "        T13[_] = np.average(upwp[y == Y[_]])\n",
    "        T22[_] = np.average(vpvp[y == Y[_]])\n",
    "        T23[_] = np.average(vpwp[y == Y[_]])\n",
    "        T33[_] = np.average(wpwp[y == Y[_]])\n",
    "        U[_]   = np.average(u[y == Y[_]])\n",
    "\n",
    "\n",
    "    # compute barycentric map coordinates (L. Jofre)\n",
    "\n",
    "    # limiting states\n",
    "    x1c    = np.matrix( [ 0.0 , 0.0 ] )\n",
    "    x2c    = np.matrix( [ 1.0 , 0.0 ] )\n",
    "    x3c    = np.matrix( [ 0.5 , np.sqrt(3.0)/2.0 ] )\n",
    "\n",
    "    Xcoord = np.zeros(len(Y))\n",
    "    Ycoord = np.zeros(len(Y))\n",
    "\n",
    "    for _ in range(len(Y)):\n",
    "        reynolds_stress_tensor = np.array([[ T11[_] , T12[_] , T13[_] ],\n",
    "                                            [ T12[_] , T22[_] , T23[_] ],\n",
    "                                            [ T13[_] , T23[_] , T33[_] ]])\n",
    "        trace = T11[_] + T22[_] + T33[_] + 1.0e-20\n",
    "        anisotropy_tensor = (1.0/trace)*reynolds_stress_tensor - (1.0/3.0)*np.array( [[ 1.0 , 0.0 , 0.0 ],\n",
    "                                                                                       [ 0.0 , 1.0 , 0.0 ],\n",
    "                                                                                       [ 0.0 , 0.0 , 1.0 ]])\n",
    "        eigenvalues_anisotropy_tensor = np.linalg.eigvalsh(anisotropy_tensor)\n",
    "        sorted_eigenvalues_anisotropy_tensor = sorted(eigenvalues_anisotropy_tensor, reverse=True)\n",
    "        xbc = x1c*( sorted_eigenvalues_anisotropy_tensor[0] - sorted_eigenvalues_anisotropy_tensor[1] ) + x2c*( 2.0*sorted_eigenvalues_anisotropy_tensor[1] - 2.0*sorted_eigenvalues_anisotropy_tensor[2] ) + x3c*( 3.0*sorted_eigenvalues_anisotropy_tensor[2] + 1 )\n",
    "\n",
    "        Xcoord[_] = xbc[0,0]\n",
    "        Ycoord[_] = xbc[0,1]\n",
    "    \n",
    "    return Y, Xcoord, Ycoord"
   ]
  },
  {
   "cell_type": "code",
   "execution_count": 77,
   "metadata": {},
   "outputs": [],
   "source": [
    "def plotBCT(Y, xBCT, yBCT):\n",
    "    \"\"\"Plot the barycentric triangle; colour by y-distance\"\"\"\n",
    "    fig = plt.figure(figsize=[1.5*6.4, 1.5*4.8])\n",
    "    ax = fig.add_subplot(111)\n",
    "    font = {'size'   : 22}\n",
    "    matplotlib.rc('font', **font)\n",
    "\n",
    "    rcParams['mathtext.fontset'] = 'stix'\n",
    "    rcParams['font.family'] = 'STIXGeneral'\n",
    "    ax.axis('equal')\n",
    "    cm = plt.cm.get_cmap('viridis')\n",
    "    sc = ax.scatter(xBCT,yBCT,c=Y,cmap=cm) # color by y-distance \n",
    "    ax.plot([1, 0.5], [0, 0.866], 'k-')\n",
    "    ax.plot([0, 0.5], [0, 0.866], 'k-')\n",
    "    ax.plot([0, 1], [0, 0], 'k-')\n",
    "    ax.plot([0.5, 1.01, 0.1], [-0.01, 0.5, 0.88], 'w.') \n",
    "    ax.text(0-.05,0-.05,'1C')\n",
    "    ax.text(1,0-.05,'2C')\n",
    "    ax.text(0.5-.025,0.866+.025,'3C')\n",
    "    ax.patch.set_visible(False)\n",
    "    ax.axis('off')\n",
    "    cbar = plt.colorbar(sc)\n",
    "    cbar.set_label('y-distance')\n",
    "    plt.show()"
   ]
  },
  {
   "cell_type": "code",
   "execution_count": 78,
   "metadata": {},
   "outputs": [],
   "source": [
    "Y, xBCT, yBCT = generateBCT(data)"
   ]
  },
  {
   "cell_type": "code",
   "execution_count": 79,
   "metadata": {},
   "outputs": [
    {
     "data": {
      "image/png": "[encoded data removed]",
      "text/plain": [
       "<Figure size 691.2x518.4 with 2 Axes>"
      ]
     },
     "metadata": {
      "needs_background": "light"
     },
     "output_type": "display_data"
    }
   ],
   "source": [
    "plotBCT(Y, xBCT, yBCT)"
   ]
  }
 ],
 "metadata": {
  "kernelspec": {
   "display_name": "Python 3",
   "language": "python",
   "name": "python3"
  },
  "language_info": {
   "codemirror_mode": {
    "name": "ipython",
    "version": 3
   },
   "file_extension": ".py",
   "mimetype": "text/x-python",
   "name": "python",
   "nbconvert_exporter": "python",
   "pygments_lexer": "ipython3",
   "version": "3.7.3"
  },
  "varInspector": {
   "cols": {
    "lenName": 16,
    "lenType": 16,
    "lenVar": 40
   },
   "kernels_config": {
    "python": {
     "delete_cmd_postfix": "",
     "delete_cmd_prefix": "del ",
     "library": "var_list.py",
     "varRefreshCmd": "print(var_dic_list())"
    },
    "r": {
     "delete_cmd_postfix": ") ",
     "delete_cmd_prefix": "rm(",
     "library": "var_list.r",
     "varRefreshCmd": "cat(var_dic_list()) "
    }
   },
   "oldHeight": 575.016666,
   "position": {
    "height": "596.85px",
    "left": "1760px",
    "right": "20px",
    "top": "120px",
    "width": "350px"
   },
   "types_to_exclude": [
    "module",
    "function",
    "builtin_function_or_method",
    "instance",
    "_Feature"
   ],
   "varInspector_section_display": "block",
   "window_display": true
  }
 },
 "nbformat": 4,
 "nbformat_minor": 2
}
